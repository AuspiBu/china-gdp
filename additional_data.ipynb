{
 "cells": [
  {
   "cell_type": "markdown",
   "id": "3e4ca3f7",
   "metadata": {},
   "source": [
    "# China's Annual GDP Per Province (Additional Data)\n",
    "Gathering, cleaning and exporting additional data for **China's Annual GDP Per Province** project."
   ]
  },
  {
   "cell_type": "code",
   "execution_count": 7,
   "id": "6b24a538",
   "metadata": {},
   "outputs": [],
   "source": [
    "import pandas as pd\n",
    "import wikipedia as wp\n",
    "import re\n",
    "from datetime import datetime\n",
    "import time"
   ]
  },
  {
   "cell_type": "markdown",
   "id": "bc1a62e6",
   "metadata": {},
   "source": [
    "## China's Statistical Regions\n",
    "Scraping, cleaning and exporting region categorisation of China's provinces from [Wikipedia](https://en.wikipedia.org/wiki/List_of_regions_of_China)."
   ]
  },
  {
   "cell_type": "markdown",
   "id": "d359e3c4",
   "metadata": {},
   "source": [
    "### Loading & Inspecting"
   ]
  },
  {
   "cell_type": "code",
   "execution_count": 2,
   "id": "d7147e5c",
   "metadata": {
    "scrolled": true
   },
   "outputs": [
    {
     "data": {
      "text/html": [
       "<div>\n",
       "<style scoped>\n",
       "    .dataframe tbody tr th:only-of-type {\n",
       "        vertical-align: middle;\n",
       "    }\n",
       "\n",
       "    .dataframe tbody tr th {\n",
       "        vertical-align: top;\n",
       "    }\n",
       "\n",
       "    .dataframe thead th {\n",
       "        text-align: right;\n",
       "    }\n",
       "</style>\n",
       "<table border=\"1\" class=\"dataframe\">\n",
       "  <thead>\n",
       "    <tr style=\"text-align: right;\">\n",
       "      <th></th>\n",
       "      <th>Region</th>\n",
       "      <th>Map</th>\n",
       "      <th>Area</th>\n",
       "      <th>Population(2010)</th>\n",
       "      <th>PopulationDensity</th>\n",
       "      <th>Provinces/Region</th>\n",
       "      <th>Provincial/Regional Seat</th>\n",
       "    </tr>\n",
       "  </thead>\n",
       "  <tbody>\n",
       "    <tr>\n",
       "      <th>0</th>\n",
       "      <td>North Chinaåå (HuÃ¡bÄi)</td>\n",
       "      <td>NaN</td>\n",
       "      <td>1,556,061 km2</td>\n",
       "      <td>164823226</td>\n",
       "      <td>105/km2</td>\n",
       "      <td>Beijing</td>\n",
       "      <td>Dongcheng District</td>\n",
       "    </tr>\n",
       "    <tr>\n",
       "      <th>1</th>\n",
       "      <td>North Chinaåå (HuÃ¡bÄi)</td>\n",
       "      <td>NaN</td>\n",
       "      <td>1,556,061 km2</td>\n",
       "      <td>164823226</td>\n",
       "      <td>105/km2</td>\n",
       "      <td>Tianjin</td>\n",
       "      <td>Heping District</td>\n",
       "    </tr>\n",
       "    <tr>\n",
       "      <th>2</th>\n",
       "      <td>North Chinaåå (HuÃ¡bÄi)</td>\n",
       "      <td>NaN</td>\n",
       "      <td>1,556,061 km2</td>\n",
       "      <td>164823226</td>\n",
       "      <td>105/km2</td>\n",
       "      <td>Hebei</td>\n",
       "      <td>Shijiazhuang</td>\n",
       "    </tr>\n",
       "  </tbody>\n",
       "</table>\n",
       "</div>"
      ],
      "text/plain": [
       "                         Region  Map           Area  Population(2010)  \\\n",
       "0  North Chinaåå (HuÃ¡bÄi)  NaN  1,556,061 km2         164823226   \n",
       "1  North Chinaåå (HuÃ¡bÄi)  NaN  1,556,061 km2         164823226   \n",
       "2  North Chinaåå (HuÃ¡bÄi)  NaN  1,556,061 km2         164823226   \n",
       "\n",
       "  PopulationDensity Provinces/Region Provincial/Regional Seat  \n",
       "0           105/km2          Beijing       Dongcheng District  \n",
       "1           105/km2          Tianjin          Heping District  \n",
       "2           105/km2            Hebei             Shijiazhuang  "
      ]
     },
     "execution_count": 2,
     "metadata": {},
     "output_type": "execute_result"
    }
   ],
   "source": [
    "china_regions_page = wp.page('List of regions of China')\n",
    "html = china_regions_page.html().encode('UTF-8')\n",
    "\n",
    "# reading in table\n",
    "china_regions = pd.read_html(html)[3]\n",
    "\n",
    "china_regions.head(3)"
   ]
  },
  {
   "cell_type": "code",
   "execution_count": 3,
   "id": "b5dd9c8a",
   "metadata": {},
   "outputs": [
    {
     "data": {
      "text/plain": [
       "array(['North Chinaå\\x8d\\x8eå\\x8c\\x97 (HuÃ¡bÄ\\x9bi)',\n",
       "       'Northeast Chinaä¸\\x9cå\\x8c\\x97 (DÅ\\x8dngbÄ\\x9bi)',\n",
       "       'East Chinaå\\x8d\\x8eä¸\\x9c (HuÃ¡dÅ\\x8dng)',\n",
       "       'South Central Chinaä¸\\xadå\\x8d\\x97 (ZhÅ\\x8dngnÃ¡n)',\n",
       "       'Southwest Chinaè¥¿å\\x8d\\x97 (XÄ«nÃ¡n)',\n",
       "       'Northwest Chinaè¥¿å\\x8c\\x97 (XÄ«bÄ\\x9bi)'], dtype=object)"
      ]
     },
     "execution_count": 3,
     "metadata": {},
     "output_type": "execute_result"
    }
   ],
   "source": [
    "china_regions['Region'].unique()"
   ]
  },
  {
   "cell_type": "markdown",
   "id": "980deacb",
   "metadata": {},
   "source": [
    "### Cleaning\n",
    "Cleaning the dataset by:\n",
    "1. Dropping all columns except `Region` and `Provinces/Region`.\n",
    "2. Changing column names to snakecase.\n",
    "3. Cleaning `Region` column values. These were the result of Chinese characters being present in the original page."
   ]
  },
  {
   "cell_type": "code",
   "execution_count": 4,
   "id": "529ee257",
   "metadata": {},
   "outputs": [
    {
     "name": "stderr",
     "output_type": "stream",
     "text": [
      "C:\\Users\\henry\\Anaconda3\\lib\\site-packages\\pandas\\core\\generic.py:5494: SettingWithCopyWarning: \n",
      "A value is trying to be set on a copy of a slice from a DataFrame.\n",
      "Try using .loc[row_indexer,col_indexer] = value instead\n",
      "\n",
      "See the caveats in the documentation: https://pandas.pydata.org/pandas-docs/stable/user_guide/indexing.html#returning-a-view-versus-a-copy\n",
      "  self[name] = value\n"
     ]
    },
    {
     "data": {
      "text/plain": [
       "array(['North China', 'Northeast China', 'East China', 'Central China',\n",
       "       'Southwest China', 'Northwest China'], dtype=object)"
      ]
     },
     "execution_count": 4,
     "metadata": {},
     "output_type": "execute_result"
    }
   ],
   "source": [
    "regions_cleaned = china_regions[['Region', 'Provinces/Region']]\n",
    "regions_cleaned.columns = ['region', 'province']\n",
    "\n",
    "regions_cleaned.region = regions_cleaned.region\\\n",
    "                            .str.extract('(\\w+(?=\\s+China)\\s+China)', flags=re.IGNORECASE)\n",
    "\n",
    "regions_cleaned.region.unique()"
   ]
  },
  {
   "cell_type": "markdown",
   "id": "ed043d52",
   "metadata": {},
   "source": [
    "### Exporting\n",
    "Exporting to .csv"
   ]
  },
  {
   "cell_type": "code",
   "execution_count": 11,
   "id": "68a5b0bf",
   "metadata": {},
   "outputs": [],
   "source": [
    "date = time.strftime('%y%m%d%H%M')\n",
    "\n",
    "regions_cleaned.to_csv(f'input/china_regions_{date}.csv', index=False)"
   ]
  }
 ],
 "metadata": {
  "kernelspec": {
   "display_name": "Python 3",
   "language": "python",
   "name": "python3"
  },
  "language_info": {
   "codemirror_mode": {
    "name": "ipython",
    "version": 3
   },
   "file_extension": ".py",
   "mimetype": "text/x-python",
   "name": "python",
   "nbconvert_exporter": "python",
   "pygments_lexer": "ipython3",
   "version": "3.8.8"
  }
 },
 "nbformat": 4,
 "nbformat_minor": 5
}
